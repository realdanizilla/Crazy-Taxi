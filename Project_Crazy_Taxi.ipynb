{
 "cells": [
  {
   "cell_type": "markdown",
   "metadata": {},
   "source": [
    "## Preparation"
   ]
  },
  {
   "cell_type": "code",
   "execution_count": 35,
   "metadata": {},
   "outputs": [],
   "source": [
    "# importando as bibliotecas\n",
    "\n",
    "import pandas as pd\n",
    "import numpy as np\n",
    "from sklearn.model_selection import train_test_split\n",
    "from sklearn.linear_model import LinearRegression\n",
    "from sklearn.metrics import mean_squared_error\n",
    "from statsmodels.tsa.seasonal import seasonal_decompose\n",
    "import matplotlib.pyplot as plt\n",
    "from sklearn.model_selection import GridSearchCV\n",
    "from sklearn.tree import DecisionTreeRegressor\n",
    "from sklearn.ensemble import RandomForestRegressor, GradientBoostingRegressor\n",
    "import lightgbm as lgb\n",
    "from catboost import CatBoostRegressor\n",
    "from xgboost import XGBRegressor"
   ]
  },
  {
   "cell_type": "code",
   "execution_count": 2,
   "metadata": {},
   "outputs": [],
   "source": [
    "# carregando os dados\n",
    "df = pd.read_csv('/datasets/taxi.csv',parse_dates=[0], index_col=[0])"
   ]
  },
  {
   "cell_type": "code",
   "execution_count": 3,
   "metadata": {},
   "outputs": [
    {
     "data": {
      "text/html": [
       "<div>\n",
       "<style scoped>\n",
       "    .dataframe tbody tr th:only-of-type {\n",
       "        vertical-align: middle;\n",
       "    }\n",
       "\n",
       "    .dataframe tbody tr th {\n",
       "        vertical-align: top;\n",
       "    }\n",
       "\n",
       "    .dataframe thead th {\n",
       "        text-align: right;\n",
       "    }\n",
       "</style>\n",
       "<table border=\"1\" class=\"dataframe\">\n",
       "  <thead>\n",
       "    <tr style=\"text-align: right;\">\n",
       "      <th></th>\n",
       "      <th>num_orders</th>\n",
       "    </tr>\n",
       "    <tr>\n",
       "      <th>datetime</th>\n",
       "      <th></th>\n",
       "    </tr>\n",
       "  </thead>\n",
       "  <tbody>\n",
       "    <tr>\n",
       "      <th>2018-03-01 00:00:00</th>\n",
       "      <td>9</td>\n",
       "    </tr>\n",
       "    <tr>\n",
       "      <th>2018-03-01 00:10:00</th>\n",
       "      <td>14</td>\n",
       "    </tr>\n",
       "    <tr>\n",
       "      <th>2018-03-01 00:20:00</th>\n",
       "      <td>28</td>\n",
       "    </tr>\n",
       "    <tr>\n",
       "      <th>2018-03-01 00:30:00</th>\n",
       "      <td>20</td>\n",
       "    </tr>\n",
       "    <tr>\n",
       "      <th>2018-03-01 00:40:00</th>\n",
       "      <td>32</td>\n",
       "    </tr>\n",
       "    <tr>\n",
       "      <th>2018-03-01 00:50:00</th>\n",
       "      <td>21</td>\n",
       "    </tr>\n",
       "    <tr>\n",
       "      <th>2018-03-01 01:00:00</th>\n",
       "      <td>7</td>\n",
       "    </tr>\n",
       "    <tr>\n",
       "      <th>2018-03-01 01:10:00</th>\n",
       "      <td>5</td>\n",
       "    </tr>\n",
       "    <tr>\n",
       "      <th>2018-03-01 01:20:00</th>\n",
       "      <td>17</td>\n",
       "    </tr>\n",
       "    <tr>\n",
       "      <th>2018-03-01 01:30:00</th>\n",
       "      <td>12</td>\n",
       "    </tr>\n",
       "  </tbody>\n",
       "</table>\n",
       "</div>"
      ],
      "text/plain": [
       "                     num_orders\n",
       "datetime                       \n",
       "2018-03-01 00:00:00           9\n",
       "2018-03-01 00:10:00          14\n",
       "2018-03-01 00:20:00          28\n",
       "2018-03-01 00:30:00          20\n",
       "2018-03-01 00:40:00          32\n",
       "2018-03-01 00:50:00          21\n",
       "2018-03-01 01:00:00           7\n",
       "2018-03-01 01:10:00           5\n",
       "2018-03-01 01:20:00          17\n",
       "2018-03-01 01:30:00          12"
      ]
     },
     "execution_count": 3,
     "metadata": {},
     "output_type": "execute_result"
    }
   ],
   "source": [
    "df.head(10)"
   ]
  },
  {
   "cell_type": "code",
   "execution_count": 4,
   "metadata": {
    "scrolled": true
   },
   "outputs": [
    {
     "name": "stdout",
     "output_type": "stream",
     "text": [
      "<class 'pandas.core.frame.DataFrame'>\n",
      "DatetimeIndex: 26496 entries, 2018-03-01 00:00:00 to 2018-08-31 23:50:00\n",
      "Data columns (total 1 columns):\n",
      " #   Column      Non-Null Count  Dtype\n",
      "---  ------      --------------  -----\n",
      " 0   num_orders  26496 non-null  int64\n",
      "dtypes: int64(1)\n",
      "memory usage: 414.0 KB\n"
     ]
    }
   ],
   "source": [
    "df.info()"
   ]
  },
  {
   "cell_type": "code",
   "execution_count": 5,
   "metadata": {},
   "outputs": [],
   "source": [
    "# convertendo datetime de object para datetime\n",
    "# df[\"datetime\"] = pd.to_datetime(df[\"datetime\"])"
   ]
  },
  {
   "cell_type": "code",
   "execution_count": 6,
   "metadata": {},
   "outputs": [
    {
     "name": "stdout",
     "output_type": "stream",
     "text": [
      "True\n"
     ]
    }
   ],
   "source": [
    "# verificando se df está ordenado cronologicamente\n",
    "df.sort_index(inplace=True)\n",
    "print(df.index.is_monotonic)"
   ]
  },
  {
   "cell_type": "markdown",
   "metadata": {},
   "source": [
    "## Analysis"
   ]
  },
  {
   "cell_type": "code",
   "execution_count": 7,
   "metadata": {
    "scrolled": false
   },
   "outputs": [
    {
     "data": {
      "text/plain": [
       "<AxesSubplot:xlabel='datetime'>"
      ]
     },
     "execution_count": 7,
     "metadata": {},
     "output_type": "execute_result"
    },
    {
     "data": {
      "image/png": "[encoded data removed]",
      "text/plain": [
       "<Figure size 640x480 with 1 Axes>"
      ]
     },
     "metadata": {},
     "output_type": "display_data"
    }
   ],
   "source": [
    "df.plot()"
   ]
  },
  {
   "cell_type": "code",
   "execution_count": 8,
   "metadata": {
    "scrolled": false
   },
   "outputs": [
    {
     "data": {
      "text/plain": [
       "<AxesSubplot:xlabel='datetime'>"
      ]
     },
     "execution_count": 8,
     "metadata": {},
     "output_type": "execute_result"
    },
    {
     "data": {
      "image/png": "[encoded data removed]",
      "text/plain": [
       "<Figure size 640x480 with 1 Axes>"
      ]
     },
     "metadata": {},
     "output_type": "display_data"
    }
   ],
   "source": [
    "# agrupando por hora pois queremos prever a próxima hora\n",
    "df = df.resample('1H').sum()\n",
    "df.plot()"
   ]
  },
  {
   "cell_type": "code",
   "execution_count": 9,
   "metadata": {
    "scrolled": false
   },
   "outputs": [
    {
     "data": {
      "text/plain": [
       "Text(0.5, 1.0, 'Resíduos')"
      ]
     },
     "execution_count": 9,
     "metadata": {},
     "output_type": "execute_result"
    },
    {
     "data": {
      "image/png": "[encoded data removed]",
      "text/plain": [
       "<Figure size 800x800 with 3 Axes>"
      ]
     },
     "metadata": {},
     "output_type": "display_data"
    }
   ],
   "source": [
    "# analisando tendencia, sazonalidade e resíduos\n",
    "decomposed = seasonal_decompose(df)\n",
    "\n",
    "plt.figure(figsize=(8, 8))\n",
    "\n",
    "plt.subplot(311)\n",
    "decomposed.trend.plot(ax=plt.gca())\n",
    "plt.title('Tendência')\n",
    "plt.subplot(312)\n",
    "decomposed.seasonal.plot(ax=plt.gca())\n",
    "plt.title('Sazonalidade')\n",
    "plt.subplot(313)\n",
    "decomposed.resid.plot(ax=plt.gca())\n",
    "plt.title('Resíduos')"
   ]
  },
  {
   "cell_type": "markdown",
   "metadata": {},
   "source": [
    "Conclusion: There is an upward trend over time, increasing from 50 to 175 during the period. Seasonality is constant and cyclical, and the residuals are relatively stable.\n"
   ]
  },
  {
   "cell_type": "code",
   "execution_count": 10,
   "metadata": {},
   "outputs": [
    {
     "data": {
      "text/html": [
       "<div>\n",
       "<style scoped>\n",
       "    .dataframe tbody tr th:only-of-type {\n",
       "        vertical-align: middle;\n",
       "    }\n",
       "\n",
       "    .dataframe tbody tr th {\n",
       "        vertical-align: top;\n",
       "    }\n",
       "\n",
       "    .dataframe thead th {\n",
       "        text-align: right;\n",
       "    }\n",
       "</style>\n",
       "<table border=\"1\" class=\"dataframe\">\n",
       "  <thead>\n",
       "    <tr style=\"text-align: right;\">\n",
       "      <th></th>\n",
       "      <th>num_orders</th>\n",
       "      <th>year</th>\n",
       "      <th>month</th>\n",
       "      <th>day</th>\n",
       "      <th>dayofweek</th>\n",
       "      <th>hour</th>\n",
       "      <th>lag_1</th>\n",
       "      <th>lag_2</th>\n",
       "      <th>lag_3</th>\n",
       "      <th>lag_4</th>\n",
       "      <th>rolling_mean</th>\n",
       "    </tr>\n",
       "    <tr>\n",
       "      <th>datetime</th>\n",
       "      <th></th>\n",
       "      <th></th>\n",
       "      <th></th>\n",
       "      <th></th>\n",
       "      <th></th>\n",
       "      <th></th>\n",
       "      <th></th>\n",
       "      <th></th>\n",
       "      <th></th>\n",
       "      <th></th>\n",
       "      <th></th>\n",
       "    </tr>\n",
       "  </thead>\n",
       "  <tbody>\n",
       "    <tr>\n",
       "      <th>2018-03-01 00:00:00</th>\n",
       "      <td>124</td>\n",
       "      <td>2018</td>\n",
       "      <td>3</td>\n",
       "      <td>1</td>\n",
       "      <td>3</td>\n",
       "      <td>0</td>\n",
       "      <td>NaN</td>\n",
       "      <td>NaN</td>\n",
       "      <td>NaN</td>\n",
       "      <td>NaN</td>\n",
       "      <td>NaN</td>\n",
       "    </tr>\n",
       "    <tr>\n",
       "      <th>2018-03-01 01:00:00</th>\n",
       "      <td>85</td>\n",
       "      <td>2018</td>\n",
       "      <td>3</td>\n",
       "      <td>1</td>\n",
       "      <td>3</td>\n",
       "      <td>1</td>\n",
       "      <td>124.0</td>\n",
       "      <td>NaN</td>\n",
       "      <td>NaN</td>\n",
       "      <td>NaN</td>\n",
       "      <td>NaN</td>\n",
       "    </tr>\n",
       "    <tr>\n",
       "      <th>2018-03-01 02:00:00</th>\n",
       "      <td>71</td>\n",
       "      <td>2018</td>\n",
       "      <td>3</td>\n",
       "      <td>1</td>\n",
       "      <td>3</td>\n",
       "      <td>2</td>\n",
       "      <td>85.0</td>\n",
       "      <td>124.0</td>\n",
       "      <td>NaN</td>\n",
       "      <td>NaN</td>\n",
       "      <td>NaN</td>\n",
       "    </tr>\n",
       "    <tr>\n",
       "      <th>2018-03-01 03:00:00</th>\n",
       "      <td>66</td>\n",
       "      <td>2018</td>\n",
       "      <td>3</td>\n",
       "      <td>1</td>\n",
       "      <td>3</td>\n",
       "      <td>3</td>\n",
       "      <td>71.0</td>\n",
       "      <td>85.0</td>\n",
       "      <td>124.0</td>\n",
       "      <td>NaN</td>\n",
       "      <td>NaN</td>\n",
       "    </tr>\n",
       "    <tr>\n",
       "      <th>2018-03-01 04:00:00</th>\n",
       "      <td>43</td>\n",
       "      <td>2018</td>\n",
       "      <td>3</td>\n",
       "      <td>1</td>\n",
       "      <td>3</td>\n",
       "      <td>4</td>\n",
       "      <td>66.0</td>\n",
       "      <td>71.0</td>\n",
       "      <td>85.0</td>\n",
       "      <td>124.0</td>\n",
       "      <td>86.50</td>\n",
       "    </tr>\n",
       "    <tr>\n",
       "      <th>2018-03-01 05:00:00</th>\n",
       "      <td>6</td>\n",
       "      <td>2018</td>\n",
       "      <td>3</td>\n",
       "      <td>1</td>\n",
       "      <td>3</td>\n",
       "      <td>5</td>\n",
       "      <td>43.0</td>\n",
       "      <td>66.0</td>\n",
       "      <td>71.0</td>\n",
       "      <td>85.0</td>\n",
       "      <td>66.25</td>\n",
       "    </tr>\n",
       "    <tr>\n",
       "      <th>2018-03-01 06:00:00</th>\n",
       "      <td>12</td>\n",
       "      <td>2018</td>\n",
       "      <td>3</td>\n",
       "      <td>1</td>\n",
       "      <td>3</td>\n",
       "      <td>6</td>\n",
       "      <td>6.0</td>\n",
       "      <td>43.0</td>\n",
       "      <td>66.0</td>\n",
       "      <td>71.0</td>\n",
       "      <td>46.50</td>\n",
       "    </tr>\n",
       "    <tr>\n",
       "      <th>2018-03-01 07:00:00</th>\n",
       "      <td>15</td>\n",
       "      <td>2018</td>\n",
       "      <td>3</td>\n",
       "      <td>1</td>\n",
       "      <td>3</td>\n",
       "      <td>7</td>\n",
       "      <td>12.0</td>\n",
       "      <td>6.0</td>\n",
       "      <td>43.0</td>\n",
       "      <td>66.0</td>\n",
       "      <td>31.75</td>\n",
       "    </tr>\n",
       "    <tr>\n",
       "      <th>2018-03-01 08:00:00</th>\n",
       "      <td>34</td>\n",
       "      <td>2018</td>\n",
       "      <td>3</td>\n",
       "      <td>1</td>\n",
       "      <td>3</td>\n",
       "      <td>8</td>\n",
       "      <td>15.0</td>\n",
       "      <td>12.0</td>\n",
       "      <td>6.0</td>\n",
       "      <td>43.0</td>\n",
       "      <td>19.00</td>\n",
       "    </tr>\n",
       "    <tr>\n",
       "      <th>2018-03-01 09:00:00</th>\n",
       "      <td>69</td>\n",
       "      <td>2018</td>\n",
       "      <td>3</td>\n",
       "      <td>1</td>\n",
       "      <td>3</td>\n",
       "      <td>9</td>\n",
       "      <td>34.0</td>\n",
       "      <td>15.0</td>\n",
       "      <td>12.0</td>\n",
       "      <td>6.0</td>\n",
       "      <td>16.75</td>\n",
       "    </tr>\n",
       "  </tbody>\n",
       "</table>\n",
       "</div>"
      ],
      "text/plain": [
       "                     num_orders  year  month  day  dayofweek  hour  lag_1  \\\n",
       "datetime                                                                    \n",
       "2018-03-01 00:00:00         124  2018      3    1          3     0    NaN   \n",
       "2018-03-01 01:00:00          85  2018      3    1          3     1  124.0   \n",
       "2018-03-01 02:00:00          71  2018      3    1          3     2   85.0   \n",
       "2018-03-01 03:00:00          66  2018      3    1          3     3   71.0   \n",
       "2018-03-01 04:00:00          43  2018      3    1          3     4   66.0   \n",
       "2018-03-01 05:00:00           6  2018      3    1          3     5   43.0   \n",
       "2018-03-01 06:00:00          12  2018      3    1          3     6    6.0   \n",
       "2018-03-01 07:00:00          15  2018      3    1          3     7   12.0   \n",
       "2018-03-01 08:00:00          34  2018      3    1          3     8   15.0   \n",
       "2018-03-01 09:00:00          69  2018      3    1          3     9   34.0   \n",
       "\n",
       "                     lag_2  lag_3  lag_4  rolling_mean  \n",
       "datetime                                                \n",
       "2018-03-01 00:00:00    NaN    NaN    NaN           NaN  \n",
       "2018-03-01 01:00:00    NaN    NaN    NaN           NaN  \n",
       "2018-03-01 02:00:00  124.0    NaN    NaN           NaN  \n",
       "2018-03-01 03:00:00   85.0  124.0    NaN           NaN  \n",
       "2018-03-01 04:00:00   71.0   85.0  124.0         86.50  \n",
       "2018-03-01 05:00:00   66.0   71.0   85.0         66.25  \n",
       "2018-03-01 06:00:00   43.0   66.0   71.0         46.50  \n",
       "2018-03-01 07:00:00    6.0   43.0   66.0         31.75  \n",
       "2018-03-01 08:00:00   12.0    6.0   43.0         19.00  \n",
       "2018-03-01 09:00:00   15.0   12.0    6.0         16.75  "
      ]
     },
     "execution_count": 10,
     "metadata": {},
     "output_type": "execute_result"
    }
   ],
   "source": [
    "# criando as características\n",
    "\n",
    "def make_features(data, max_lag, rolling_mean_size):\n",
    "    data['year'] = data.index.year\n",
    "    data['month'] = data.index.month\n",
    "    data['day'] = data.index.day\n",
    "    data['dayofweek'] = data.index.dayofweek\n",
    "    data['hour'] = data.index.hour\n",
    "    \n",
    "    for lag in range(1, max_lag + 1):\n",
    "        data['lag_{}'.format(lag)] = data['num_orders'].shift(lag)\n",
    "\n",
    "    data['rolling_mean'] = data[\"num_orders\"].shift().rolling(rolling_mean_size).mean()\n",
    "\n",
    "make_features(df, 4, 4)\n",
    "df.head(10)"
   ]
  },
  {
   "cell_type": "markdown",
   "metadata": {},
   "source": [
    "## Model Training"
   ]
  },
  {
   "cell_type": "code",
   "execution_count": 13,
   "metadata": {},
   "outputs": [
    {
     "name": "stdout",
     "output_type": "stream",
     "text": [
      "REQM treinamento: 30.500374252442192\n"
     ]
    }
   ],
   "source": [
    "# criando conjunto de treinamento e de teste\n",
    "train, test = train_test_split(df, shuffle=False, test_size=0.1)\n",
    "train = train.dropna()\n",
    "\n",
    "# selecionando colunas para os conjuntos\n",
    "features_train = train.drop(['num_orders'],axis=1)\n",
    "target_train = train[\"num_orders\"]\n",
    "\n",
    "features_test = test.drop(['num_orders'],axis=1)\n",
    "target_test = test[\"num_orders\"]\n",
    "\n",
    "# criando a regressão\n",
    "lr = LinearRegression()\n",
    "lr.fit(features_train,target_train)\n",
    "\n",
    "# previsões\n",
    "predict_train = lr.predict(features_train)\n",
    "\n",
    "# calculando mse\n",
    "mse_train = np.sqrt(mean_squared_error(target_train,predict_train))\n",
    "\n",
    "print(\"REQM treinamento:\", mse_train)"
   ]
  },
  {
   "cell_type": "markdown",
   "metadata": {},
   "source": [
    "## Testing Predictions"
   ]
  },
  {
   "cell_type": "code",
   "execution_count": 14,
   "metadata": {},
   "outputs": [
    {
     "name": "stdout",
     "output_type": "stream",
     "text": [
      "REQM teste: 52.57450685373692\n"
     ]
    }
   ],
   "source": [
    "# testando as previsões\n",
    "\n",
    "# previsões\n",
    "predict_test = lr.predict(features_test)\n",
    "\n",
    "# previsões\n",
    "mse_test = np.sqrt(mean_squared_error(target_test,predict_test))\n",
    "\n",
    "print(\"REQM teste:\", mse_test)"
   ]
  },
  {
   "cell_type": "code",
   "execution_count": 21,
   "metadata": {},
   "outputs": [
    {
     "name": "stdout",
     "output_type": "stream",
     "text": [
      "Best Parameters: {'copy_X': True, 'fit_intercept': True, 'normalize': False, 'positive': False}\n",
      "Best Score: -951.5697260977255\n",
      "Test Score: 0.19368932080760448\n",
      "REQM otimizado: 52.57450685373692\n"
     ]
    }
   ],
   "source": [
    "# otimizando a regressão\n",
    "\n",
    "param_grid = {\n",
    "    'fit_intercept': [True, False],\n",
    "    'copy_X':[True,False],\n",
    "    'normalize':[True,False],\n",
    "    'positive':[True,False],\n",
    "\n",
    "}\n",
    "\n",
    "model = LinearRegression()\n",
    "\n",
    "grid_search = GridSearchCV(model, param_grid, cv=5, scoring='neg_mean_squared_error')\n",
    "\n",
    "grid_search.fit(features_train, target_train)\n",
    "\n",
    "print(\"Best Parameters:\", grid_search.best_params_)\n",
    "print(\"Best Score:\", grid_search.best_score_)\n",
    "\n",
    "# Avaliando o melhor modelo com conjunto de teste\n",
    "best_model = grid_search.best_estimator_\n",
    "y_pred = best_model.predict(features_test)\n",
    "mse_opt = np.sqrt(mean_squared_error(y_pred,target_test))\n",
    "\n",
    "print(\"Test Score:\", best_model.score(features_test, target_test))\n",
    "print(\"REQM otimizado:\", mse_opt)"
   ]
  },
  {
   "cell_type": "code",
   "execution_count": 34,
   "metadata": {},
   "outputs": [
    {
     "name": "stdout",
     "output_type": "stream",
     "text": [
      "Decision Tree Regression:\n",
      "REQM: 48.08\n"
     ]
    }
   ],
   "source": [
    "# testando modelo de árvore de decisão\n",
    "\n",
    "tree_reg = DecisionTreeRegressor(max_depth=15,min_samples_leaf=10, min_samples_split=2)\n",
    "tree_reg.fit(features_train, target_train)\n",
    "pred_tree = tree_reg.predict(features_test)\n",
    "rmse_tree = np.sqrt(mean_squared_error(target_test, pred_tree))\n",
    "\n",
    "print(\"Decision Tree Regression:\")\n",
    "print(f\"REQM: {rmse_tree:.2f}\")"
   ]
  },
  {
   "cell_type": "code",
   "execution_count": 33,
   "metadata": {},
   "outputs": [
    {
     "name": "stdout",
     "output_type": "stream",
     "text": [
      "Random Forest Regressor:\n",
      "Best hyperparameters: {'max_depth': 10, 'min_samples_split': 2, 'n_estimators': 50}\n",
      "Best score: -650.9937035245223\n",
      "RMSE: 48.52\n"
     ]
    }
   ],
   "source": [
    "# testando foresta aleatória\n",
    "\n",
    "rf_reg = RandomForestRegressor()\n",
    "rf_param_grid = {\n",
    "    'n_estimators': [10, 20, 50],\n",
    "    'max_depth': [1, 5, 10],\n",
    "    'min_samples_split': [2, 5, 7]\n",
    "}\n",
    "rf_grid_search = GridSearchCV(rf_reg, rf_param_grid, cv=5, scoring='neg_mean_squared_error')\n",
    "rf_grid_search.fit(features_train, target_train)\n",
    "\n",
    "# previsões\n",
    "pred_rf = rf_grid_search.best_estimator_.predict(features_test)\n",
    "\n",
    "# calculando mean squared error\n",
    "rmse_rf = np.sqrt(mean_squared_error(target_test, pred_rf))\n",
    "\n",
    "print(\"Random Forest Regressor:\")\n",
    "print(\"Best hyperparameters:\", rf_grid_search.best_params_)\n",
    "print(\"Best score:\", rf_grid_search.best_score_)\n",
    "print(f\"RMSE: {rmse_rf:.2f}\")"
   ]
  },
  {
   "cell_type": "code",
   "execution_count": 36,
   "metadata": {},
   "outputs": [
    {
     "name": "stdout",
     "output_type": "stream",
     "text": [
      "LightGBM:\n",
      "RMSE: 45.32\n"
     ]
    }
   ],
   "source": [
    "# testando lgb\n",
    "\n",
    "lgb_reg = lgb.LGBMRegressor(learning_rate=0.1, max_depth=7, n_estimators=50, num_leaves=20)\n",
    "lgb_reg.fit(features_train, target_train)\n",
    "\n",
    "# previsões\n",
    "pred_lgb = lgb_reg.predict(features_test)\n",
    "\n",
    "# calculando mean squared error\n",
    "rmse_lgb = np.sqrt(mean_squared_error(target_test, pred_lgb))\n",
    "\n",
    "print(\"LightGBM:\")\n",
    "print(f'RMSE: {rmse_lgb:.2f}')"
   ]
  },
  {
   "cell_type": "code",
   "execution_count": 46,
   "metadata": {},
   "outputs": [
    {
     "name": "stdout",
     "output_type": "stream",
     "text": [
      "GradientBoostingRegressor:\n",
      "RMSE: 47.75\n"
     ]
    }
   ],
   "source": [
    "# testando gradient boosting\n",
    "\n",
    "gb_reg = GradientBoostingRegressor(learning_rate=0.1, max_depth=7, max_features='sqrt', n_estimators=50, subsample=0.8)\n",
    "gb_reg.fit(features_train, target_train)\n",
    "\n",
    "# previsões\n",
    "pred_gb = gb_reg.predict(features_test)\n",
    "\n",
    "# calculando mean squared error\n",
    "rmse_gb = np.sqrt(mean_squared_error(target_test, pred_gb))\n",
    "\n",
    "print(\"GradientBoostingRegressor:\")\n",
    "print(f'RMSE: {rmse_gb:.2f}')"
   ]
  },
  {
   "cell_type": "code",
   "execution_count": 47,
   "metadata": {},
   "outputs": [
    {
     "name": "stdout",
     "output_type": "stream",
     "text": [
      "0:\tlearn: 31.1243043\ttotal: 50.7ms\tremaining: 2.48s\n",
      "1:\tlearn: 27.4573942\ttotal: 54.6ms\tremaining: 1.31s\n",
      "2:\tlearn: 25.2151471\ttotal: 58.8ms\tremaining: 921ms\n",
      "3:\tlearn: 23.9873531\ttotal: 62.7ms\tremaining: 721ms\n",
      "4:\tlearn: 23.3661753\ttotal: 66.6ms\tremaining: 599ms\n",
      "5:\tlearn: 22.9777660\ttotal: 70.2ms\tremaining: 515ms\n",
      "6:\tlearn: 22.2821939\ttotal: 74.1ms\tremaining: 455ms\n",
      "7:\tlearn: 21.7380030\ttotal: 77.9ms\tremaining: 409ms\n",
      "8:\tlearn: 21.3310983\ttotal: 81.6ms\tremaining: 372ms\n",
      "9:\tlearn: 21.0543643\ttotal: 85.6ms\tremaining: 342ms\n",
      "10:\tlearn: 20.7914962\ttotal: 89.4ms\tremaining: 317ms\n",
      "11:\tlearn: 20.5219995\ttotal: 93.2ms\tremaining: 295ms\n",
      "12:\tlearn: 20.2058383\ttotal: 96.9ms\tremaining: 276ms\n",
      "13:\tlearn: 19.6358928\ttotal: 101ms\tremaining: 259ms\n",
      "14:\tlearn: 19.4199766\ttotal: 105ms\tremaining: 244ms\n",
      "15:\tlearn: 19.2251249\ttotal: 108ms\tremaining: 230ms\n",
      "16:\tlearn: 19.0356803\ttotal: 112ms\tremaining: 218ms\n",
      "17:\tlearn: 18.7538031\ttotal: 116ms\tremaining: 206ms\n",
      "18:\tlearn: 18.5186007\ttotal: 120ms\tremaining: 195ms\n",
      "19:\tlearn: 18.2445691\ttotal: 124ms\tremaining: 186ms\n",
      "20:\tlearn: 18.1057797\ttotal: 127ms\tremaining: 176ms\n",
      "21:\tlearn: 18.0109361\ttotal: 131ms\tremaining: 167ms\n",
      "22:\tlearn: 17.8466208\ttotal: 135ms\tremaining: 159ms\n",
      "23:\tlearn: 17.5817195\ttotal: 139ms\tremaining: 150ms\n",
      "24:\tlearn: 17.4306976\ttotal: 143ms\tremaining: 143ms\n",
      "25:\tlearn: 17.3490253\ttotal: 147ms\tremaining: 135ms\n",
      "26:\tlearn: 17.1410223\ttotal: 151ms\tremaining: 128ms\n",
      "27:\tlearn: 16.9028605\ttotal: 154ms\tremaining: 121ms\n",
      "28:\tlearn: 16.6161722\ttotal: 158ms\tremaining: 114ms\n",
      "29:\tlearn: 16.4976575\ttotal: 162ms\tremaining: 108ms\n",
      "30:\tlearn: 16.3349832\ttotal: 165ms\tremaining: 101ms\n",
      "31:\tlearn: 16.1744268\ttotal: 169ms\tremaining: 95.2ms\n",
      "32:\tlearn: 15.9641400\ttotal: 173ms\tremaining: 89.1ms\n",
      "33:\tlearn: 15.8118401\ttotal: 177ms\tremaining: 83.2ms\n",
      "34:\tlearn: 15.7046486\ttotal: 180ms\tremaining: 77.3ms\n",
      "35:\tlearn: 15.5414255\ttotal: 184ms\tremaining: 71.7ms\n",
      "36:\tlearn: 15.4056042\ttotal: 188ms\tremaining: 66.2ms\n",
      "37:\tlearn: 15.2624007\ttotal: 192ms\tremaining: 60.7ms\n",
      "38:\tlearn: 15.1354879\ttotal: 196ms\tremaining: 55.3ms\n",
      "39:\tlearn: 15.0060603\ttotal: 200ms\tremaining: 50ms\n",
      "40:\tlearn: 14.8648470\ttotal: 204ms\tremaining: 44.8ms\n",
      "41:\tlearn: 14.7343992\ttotal: 208ms\tremaining: 39.6ms\n",
      "42:\tlearn: 14.6383047\ttotal: 212ms\tremaining: 34.5ms\n",
      "43:\tlearn: 14.4553431\ttotal: 216ms\tremaining: 29.4ms\n",
      "44:\tlearn: 14.2967664\ttotal: 220ms\tremaining: 24.4ms\n",
      "45:\tlearn: 14.1926142\ttotal: 224ms\tremaining: 19.4ms\n",
      "46:\tlearn: 14.1005220\ttotal: 227ms\tremaining: 14.5ms\n",
      "47:\tlearn: 13.9922007\ttotal: 231ms\tremaining: 9.63ms\n",
      "48:\tlearn: 13.8988729\ttotal: 235ms\tremaining: 4.79ms\n",
      "49:\tlearn: 13.7846376\ttotal: 239ms\tremaining: 0us\n",
      "CatBoost Regressor:\n",
      "RMSE: 44.76\n"
     ]
    }
   ],
   "source": [
    "# testando catboost\n",
    "\n",
    "cat_reg = CatBoostRegressor(depth=7, iterations=50, l2_leaf_reg=0.1, learning_rate=0.5)\n",
    "cat_reg.fit(features_train, target_train)\n",
    "\n",
    "# previsões\n",
    "pred_cat = cat_reg.predict(features_test)\n",
    "\n",
    "# calculando mean squared error\n",
    "rmse_cat = np.sqrt(mean_squared_error(target_test, pred_cat))\n",
    "\n",
    "print(\"CatBoost Regressor:\")\n",
    "print(f'RMSE: {rmse_cat:.2f}')"
   ]
  },
  {
   "cell_type": "code",
   "execution_count": 52,
   "metadata": {},
   "outputs": [
    {
     "name": "stdout",
     "output_type": "stream",
     "text": [
      "XGBoost Regressor:\n",
      "RMSE: 50.44\n"
     ]
    }
   ],
   "source": [
    "# testando xgb\n",
    "\n",
    "xgb_reg = XGBRegressor(gamma=0, learning_rate=0.1, max_depth=7, n_estimators=100)\n",
    "xgb_reg.fit(features_train, target_train)\n",
    "\n",
    "# previsões\n",
    "pred_xgb = xgb_reg.predict(features_test)\n",
    "\n",
    "# calculando mean squared error\n",
    "rmse_xgb = np.sqrt(mean_squared_error(target_test, pred_xgb))\n",
    "\n",
    "print(\"XGBoost Regressor:\")\n",
    "print(f'RMSE: {rmse_xgb:.2f}')"
   ]
  },
  {
   "cell_type": "code",
   "execution_count": 54,
   "metadata": {
    "scrolled": true
   },
   "outputs": [
    {
     "name": "stdout",
     "output_type": "stream",
     "text": [
      "                 Model Name       RMSE\n",
      "0  Linear Regression (test)  52.574507\n",
      "1   Linear Regression (opt)  52.574507\n",
      "2             Decision Tree  48.076553\n",
      "3             Random Forest  48.524632\n",
      "4                   LightGB  45.316677\n",
      "5          GradientBoosting  47.746034\n",
      "6                  CatBoost  44.764340\n",
      "7                   XGBoost  50.440346\n"
     ]
    }
   ],
   "source": [
    "# Criando um dicionário e dataframe para consolidar os nomes dos modelos e MSEs\n",
    "mse_dict = {\n",
    "    'Model Name': ['Linear Regression (test)', 'Linear Regression (opt)','Decision Tree','Random Forest','LightGB','GradientBoosting','CatBoost', 'XGBoost'],\n",
    "    'RMSE': [mse_test, mse_opt, rmse_tree, rmse_rf, rmse_lgb, rmse_gb, rmse_cat, rmse_xgb]\n",
    "}\n",
    "\n",
    "mse_df = pd.DataFrame(mse_dict)\n",
    "\n",
    "print(mse_df)"
   ]
  },
  {
   "cell_type": "markdown",
   "metadata": {},
   "source": [
    "Conclusion: The best models are CatBoost with RMSE 44.7 and LightGB with RMSE 45.3"
   ]
  }
 ],
 "metadata": {
  "ExecuteTimeLog": [
   {
    "duration": 1190,
    "start_time": "2024-07-30T14:12:54.447Z"
   },
   {
    "duration": 38,
    "start_time": "2024-07-30T14:12:57.658Z"
   },
   {
    "duration": 17,
    "start_time": "2024-07-30T14:12:59.473Z"
   },
   {
    "duration": 10,
    "start_time": "2024-07-30T14:13:06.897Z"
   },
   {
    "duration": 19,
    "start_time": "2024-07-30T14:13:10.750Z"
   },
   {
    "duration": 12,
    "start_time": "2024-07-30T14:13:40.923Z"
   },
   {
    "duration": 14,
    "start_time": "2024-07-30T14:13:47.744Z"
   },
   {
    "duration": 10,
    "start_time": "2024-07-30T14:15:12.885Z"
   },
   {
    "duration": 30,
    "start_time": "2024-07-30T14:15:41.892Z"
   },
   {
    "duration": 8,
    "start_time": "2024-07-30T14:15:43.753Z"
   },
   {
    "duration": 13,
    "start_time": "2024-07-30T14:15:46.689Z"
   },
   {
    "duration": 6,
    "start_time": "2024-07-30T14:16:29.752Z"
   },
   {
    "duration": 388,
    "start_time": "2024-07-30T14:17:47.314Z"
   },
   {
    "duration": 4689,
    "start_time": "2024-07-30T14:17:50.781Z"
   },
   {
    "duration": 13,
    "start_time": "2024-07-30T14:18:43.880Z"
   },
   {
    "duration": 328,
    "start_time": "2024-07-30T14:18:56.285Z"
   },
   {
    "duration": 45,
    "start_time": "2024-07-30T14:20:28.887Z"
   },
   {
    "duration": 30,
    "start_time": "2024-07-30T14:20:43.587Z"
   },
   {
    "duration": 38,
    "start_time": "2024-07-30T14:20:47.061Z"
   },
   {
    "duration": 4,
    "start_time": "2024-07-30T14:22:52.373Z"
   },
   {
    "duration": 926,
    "start_time": "2024-07-30T14:22:57.006Z"
   },
   {
    "duration": 33,
    "start_time": "2024-07-30T14:25:59.847Z"
   },
   {
    "duration": 1539,
    "start_time": "2024-07-30T14:29:27.310Z"
   },
   {
    "duration": 46,
    "start_time": "2024-07-30T14:29:28.855Z"
   },
   {
    "duration": 21,
    "start_time": "2024-07-30T14:29:28.904Z"
   },
   {
    "duration": 16,
    "start_time": "2024-07-30T14:29:28.931Z"
   },
   {
    "duration": 4,
    "start_time": "2024-07-30T14:29:28.952Z"
   },
   {
    "duration": 45,
    "start_time": "2024-07-30T14:29:28.961Z"
   },
   {
    "duration": 908,
    "start_time": "2024-07-30T14:29:29.009Z"
   },
   {
    "duration": 355,
    "start_time": "2024-07-30T14:29:29.920Z"
   },
   {
    "duration": 909,
    "start_time": "2024-07-30T14:29:30.278Z"
   },
   {
    "duration": 36,
    "start_time": "2024-07-30T14:29:31.189Z"
   },
   {
    "duration": 7,
    "start_time": "2024-07-30T14:35:03.609Z"
   },
   {
    "duration": 495,
    "start_time": "2024-07-30T14:41:05.154Z"
   },
   {
    "duration": 25,
    "start_time": "2024-07-30T14:41:14.429Z"
   },
   {
    "duration": 8,
    "start_time": "2024-07-30T14:41:20.780Z"
   },
   {
    "duration": 620,
    "start_time": "2024-07-30T14:41:26.115Z"
   },
   {
    "duration": 157,
    "start_time": "2024-07-30T14:41:50.033Z"
   },
   {
    "duration": 10,
    "start_time": "2024-07-30T14:45:57.024Z"
   },
   {
    "duration": 156,
    "start_time": "2024-07-30T14:46:16.385Z"
   },
   {
    "duration": 252,
    "start_time": "2024-07-30T14:46:35.656Z"
   },
   {
    "duration": 159,
    "start_time": "2024-07-30T14:48:39.313Z"
   },
   {
    "duration": 1327,
    "start_time": "2024-07-30T14:50:25.008Z"
   },
   {
    "duration": 28,
    "start_time": "2024-07-30T15:25:23.900Z"
   },
   {
    "duration": 35,
    "start_time": "2024-07-30T15:25:31.481Z"
   },
   {
    "duration": 64,
    "start_time": "2024-07-30T15:25:35.947Z"
   },
   {
    "duration": 45,
    "start_time": "2024-07-30T15:25:49.580Z"
   },
   {
    "duration": 241,
    "start_time": "2024-07-30T15:26:32.349Z"
   },
   {
    "duration": 763,
    "start_time": "2024-07-30T15:27:15.232Z"
   },
   {
    "duration": 1520,
    "start_time": "2024-07-30T15:27:20.144Z"
   },
   {
    "duration": 162,
    "start_time": "2024-07-30T15:27:25.735Z"
   },
   {
    "duration": 93,
    "start_time": "2024-07-30T15:27:30.276Z"
   },
   {
    "duration": 243,
    "start_time": "2024-07-30T15:27:33.307Z"
   },
   {
    "duration": 0,
    "start_time": "2024-07-30T15:29:39.794Z"
   },
   {
    "duration": 27788,
    "start_time": "2024-07-30T15:29:50.730Z"
   },
   {
    "duration": 31,
    "start_time": "2024-07-30T15:32:36.153Z"
   },
   {
    "duration": 199,
    "start_time": "2024-07-30T15:33:21.306Z"
   },
   {
    "duration": 56,
    "start_time": "2024-07-30T15:34:48.574Z"
   },
   {
    "duration": 280,
    "start_time": "2024-07-30T15:35:16.360Z"
   },
   {
    "duration": 246,
    "start_time": "2024-07-30T15:35:26.580Z"
   },
   {
    "duration": 245,
    "start_time": "2024-07-30T15:35:34.221Z"
   },
   {
    "duration": 269,
    "start_time": "2024-07-30T15:35:38.087Z"
   },
   {
    "duration": 389,
    "start_time": "2024-07-30T15:35:43.784Z"
   },
   {
    "duration": 514,
    "start_time": "2024-07-30T15:35:48.035Z"
   },
   {
    "duration": 252,
    "start_time": "2024-07-30T15:35:52.521Z"
   },
   {
    "duration": 352,
    "start_time": "2024-07-30T15:35:59.855Z"
   },
   {
    "duration": 184,
    "start_time": "2024-07-30T15:36:03.728Z"
   },
   {
    "duration": 247,
    "start_time": "2024-07-30T15:36:06.613Z"
   },
   {
    "duration": 371,
    "start_time": "2024-07-30T15:36:29.039Z"
   },
   {
    "duration": 1207,
    "start_time": "2024-07-30T15:36:58.023Z"
   },
   {
    "duration": 1710,
    "start_time": "2024-07-30T15:37:04.845Z"
   },
   {
    "duration": 1710,
    "start_time": "2024-07-30T15:37:11.126Z"
   },
   {
    "duration": 2962,
    "start_time": "2024-07-30T15:37:17.094Z"
   },
   {
    "duration": 1867,
    "start_time": "2024-07-30T15:37:23.488Z"
   },
   {
    "duration": 8,
    "start_time": "2024-07-30T15:40:10.042Z"
   },
   {
    "duration": 8,
    "start_time": "2024-07-30T15:41:14.756Z"
   }
  ],
  "kernelspec": {
   "display_name": "Python 3 (ipykernel)",
   "language": "python",
   "name": "python3"
  },
  "language_info": {
   "codemirror_mode": {
    "name": "ipython",
    "version": 3
   },
   "file_extension": ".py",
   "mimetype": "text/x-python",
   "name": "python",
   "nbconvert_exporter": "python",
   "pygments_lexer": "ipython3",
   "version": "3.9.19"
  },
  "toc": {
   "base_numbering": 1,
   "nav_menu": {},
   "number_sections": true,
   "sideBar": true,
   "skip_h1_title": true,
   "title_cell": "Table of Contents",
   "title_sidebar": "Contents",
   "toc_cell": false,
   "toc_position": {},
   "toc_section_display": true,
   "toc_window_display": false
  }
 },
 "nbformat": 4,
 "nbformat_minor": 2
}
